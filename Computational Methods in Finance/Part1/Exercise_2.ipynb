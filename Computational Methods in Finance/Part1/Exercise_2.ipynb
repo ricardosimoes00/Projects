{
  "cells": [
    {
      "cell_type": "markdown",
      "source": [
        "## Imports\n",
        "\n",
        "---\n",
        "\n"
      ],
      "metadata": {
        "id": "yg1uk6kShyhS"
      }
    },
    {
      "cell_type": "code",
      "execution_count": 2,
      "metadata": {
        "id": "q5SqfPGxMC18"
      },
      "outputs": [],
      "source": [
        "import numpy as np\n",
        "import matplotlib.pyplot as plt\n",
        "from scipy.spatial import distance\n",
        "from math import sqrt\n",
        "from scipy import linalg"
      ]
    },
    {
      "cell_type": "code",
      "source": [
        "#Define beta, gamma and f functions. They recieve an \"x\" value, and then output the value of the function\n",
        "\n",
        "def beta(x):\n",
        "  return (1+x**2)\n",
        "def gamma(x):\n",
        "  return x\n",
        "def f(x):\n",
        "  return (np.exp(-x))*(7-13*x+18*x**2-9*x**3+x**4)\n",
        "\n",
        "#Function that recieves two vectors, computes the difference vector and outputs its norm infinity\n",
        "def inf_norm(A,N):\n",
        "  A.flatten()\n",
        "  N.flatten()\n",
        "  V = np.abs(A-N)\n",
        "  return np.max(V)"
      ],
      "metadata": {
        "id": "sbKxvAP3pdS8"
      },
      "execution_count": 3,
      "outputs": []
    },
    {
      "cell_type": "markdown",
      "source": [
        "### Solving for n=100 (Approximating the derivative of the boundary condition using a **backward** scheme)\n",
        "\n",
        "---\n"
      ],
      "metadata": {
        "id": "h-WcuTdxiCAU"
      }
    },
    {
      "cell_type": "code",
      "execution_count": null,
      "metadata": {
        "id": "F_suPVdbranP"
      },
      "outputs": [],
      "source": [
        "#For our PDE:\n",
        "\n",
        "#PDE: (beta(x)*u_x)_x -gama(x)*u_x = f(x)\n",
        "#Dirichlet Condition: U(0) = 1\n",
        "#Neumann Condition: aU(1) + bU_x(1) = c. Since a = 2, b = -3 and U(x) is given, we can find c and re-write the Neumann condition as 2*U(1) - 3*U_x(1) = 0\n",
        "\n",
        "\n",
        "def Backward_LU_dec(a,b,interior_points):\n",
        "\n",
        "#Space discretization:\n",
        "  x = np.linspace(0,1,num=interior_points+2) #n=100, (102 if we count with x=0 and x=1)\n",
        "  delta_x = x[1]-x[0]\n",
        "  U_analytical = np.exp(-x)*((x-1)**2)\n",
        "\n",
        "  #Linear system of equatoins: MU=v\n",
        "\n",
        "  #First: Build Matrix\n",
        "  M = np.zeros((len(x)-2,len(x)-2))\n",
        "  for i in range(1,len(x)-1):\n",
        "    if i==1:\n",
        "\n",
        "      M[0][0] = -(beta(x[i]+delta_x/2)+beta(x[i]-delta_x/2))/delta_x**2 - gamma(x[i])\n",
        "      M[0][1] = beta(x[i]+delta_x/2)/delta_x**2\n",
        "\n",
        "    elif i==len(x)-2:\n",
        "\n",
        "      M[-1][-1] = -(beta(x[i]+delta_x/2)+beta(x[i]-delta_x/2))/delta_x**2 -gamma(x[i]) + (-beta(x[i]+delta_x/2)/delta_x**2)*((b/delta_x)/(a+b/delta_x))\n",
        "      M[-1][-2] = beta(x[i]-delta_x/2)/delta_x**2\n",
        "\n",
        "    else:\n",
        "      \n",
        "      M[i-1][i-2] = beta(x[i]-delta_x/2)/delta_x**2 \n",
        "      M[i-1][i-1] = -(beta(x[i]+delta_x/2)+beta(x[i]-delta_x/2))/delta_x**2 - gamma(x[i])\n",
        "      M[i-1][i] = beta(x[i]+delta_x/2)/delta_x**2 \n",
        "      \n",
        "  #Second: Build right-hand side V vector \n",
        "  v = np.zeros(len(x)-2)\n",
        "\n",
        "  for i in range(1,len(x)-1):\n",
        "    if i == 1:\n",
        "      v[0] = f(x[i]) - 1 * beta(x[i]-delta_x/2)/delta_x**2 #(u(0) = 1)\n",
        "    else:\n",
        "      v[i-1] = f(x[i])\n",
        "\n",
        "  #Thirds: Solve system using LU Decomposition (instead of inverting the matrix M...)\n",
        "  U = linalg.solve(M, v)\n",
        "  \n",
        "  U = np.insert(U,obj = 0, values = 1)\n",
        "  U = np.insert(U,obj = len(U), values = (b/(b+a*delta_x))*U[-1] )\n",
        "\n",
        "  return U,U_analytical,x"
      ]
    },
    {
      "cell_type": "code",
      "source": [
        "%%time\n",
        "Backward_U_LU_100,Backward_U_analytical_100,Backward_x_100 = Backward_LU_dec(2,-3,100)"
      ],
      "metadata": {
        "colab": {
          "base_uri": "https://localhost:8080/"
        },
        "id": "trXuHKi2loc-",
        "outputId": "8ccb35c4-0448-47db-a44c-29dbbf6b8591"
      },
      "execution_count": null,
      "outputs": [
        {
          "output_type": "stream",
          "name": "stdout",
          "text": [
            "CPU times: user 5.43 ms, sys: 895 µs, total: 6.32 ms\n",
            "Wall time: 4.71 ms\n"
          ]
        }
      ]
    },
    {
      "cell_type": "code",
      "execution_count": null,
      "metadata": {
        "colab": {
          "base_uri": "https://localhost:8080/",
          "height": 312
        },
        "id": "YkYmrvNYwbt9",
        "outputId": "81826802-a8e7-4f2c-8153-db7d4cb07016"
      },
      "outputs": [
        {
          "output_type": "stream",
          "name": "stdout",
          "text": [
            "1.842456751320419e-05\n"
          ]
        },
        {
          "output_type": "display_data",
          "data": {
            "text/plain": [
              "<Figure size 432x288 with 1 Axes>"
            ],
            "image/png": "[encoded data removed]"
          },
          "metadata": {
            "needs_background": "light"
          }
        }
      ],
      "source": [
        "plt.plot(Backward_x_100,Backward_U_LU_100)\n",
        "plt.plot(Backward_x_100,Backward_U_analytical_100)     \n",
        "plt.legend(('Numercical Solution', 'Analytical Solution'),\n",
        "           loc='upper right', shadow=True)\n",
        "plt.xlabel('X values')\n",
        "plt.ylabel('U(x) values')\n",
        "plt.title('Explicit Scheme (Backward Aprox.)')\n",
        "\n",
        "print(inf_norm(Backward_U_LU_100,Backward_U_analytical_100))"
      ]
    },
    {
      "cell_type": "markdown",
      "source": [
        "### Solving for n=100 (Approximating the derivative of the boundary condition using a **central** scheme)\n",
        "\n",
        "---\n"
      ],
      "metadata": {
        "id": "_f5B5m4ljC5a"
      }
    },
    {
      "cell_type": "code",
      "source": [
        "#For our PDE:\n",
        "\n",
        "#PDE: (beta(x)*u_x)_x -gama(x)*u_x = f(x)\n",
        "#Dirichlet Condition: U(0) = 1\n",
        "#Neumann Condition: aU(1) + bU_x(1) = c. Since a = 2, b = -3 and U(x) is given, we can find c and re-write the Neumann condition as 2*U(1) - 3*U_x(1) = 0\n",
        "\n",
        "\n",
        "def Central_LU_dec(a,b,interior_points):\n",
        "\n",
        "#Space discretization:\n",
        "  x = np.linspace(0,1,num=interior_points+2) #n=100, (102 if we count with x=0 and x=1)\n",
        "  delta_x = x[1]-x[0]\n",
        "  U_analytical = np.exp(-x)*((x-1)**2)\n",
        "\n",
        "  #Linear system of equatoins: MU=v\n",
        "\n",
        "  #First: Build Matrix\n",
        "  M = np.zeros((len(x)-1,len(x)-1)) #5\n",
        "  for i in range(len(M)):  #ATE 4 INCLUSIVE\n",
        "    if i==0:\n",
        "\n",
        "      M[0][0] = -(beta(x[i+1]+delta_x/2)+beta(x[i+1]-delta_x/2))/delta_x**2 - gamma(x[i+1])\n",
        "      M[0][1] = beta(x[i+1]+delta_x/2)/delta_x**2\n",
        "\n",
        "    elif i==len(x)-2:\n",
        "      \n",
        "      M[-1][-1] = -(beta(x[i+1]+delta_x/2)+beta(x[i+1]-delta_x/2))/delta_x**2 -gamma(x[i+1]) + (-2*a/(b*delta_x))*beta(x[i+1]+delta_x/2)\n",
        "      M[-1][-2] = beta(x[i+1]-delta_x/2)/delta_x**2 + beta(x[i+1]+delta_x/2)/delta_x**2\n",
        "\n",
        "    else:\n",
        "      M[i][i-1] = beta(x[i+1]-delta_x/2)/delta_x**2 \n",
        "      M[i][i] = -(beta(x[i+1]+delta_x/2)+beta(x[i+1]-delta_x/2))/delta_x**2 - gamma(x[i+1])\n",
        "      M[i][i+1] = beta(x[i+1]+delta_x/2)/delta_x**2 \n",
        "      \n",
        "  \n",
        "  #Second: Build right-hand side V vector \n",
        "  v = np.zeros(len(x)-1)\n",
        "\n",
        "  for i in range(len(v)):\n",
        "    if i == 0:\n",
        "      v[0] = f((i+1)*delta_x) - 1 * beta((i+1)*delta_x-delta_x/2)/delta_x**2 \n",
        "    else:\n",
        "      v[i] = f((i+1)*delta_x)\n",
        "\n",
        "  #Thirds: Solve system using LU Decomposition (instead of inverting the matrix M...)\n",
        "  U = linalg.solve(M, v)\n",
        "  U = np.insert(U,obj = 0, values = 1)\n",
        "\n",
        "  return U,U_analytical,x"
      ],
      "metadata": {
        "id": "ExlSau5ai_u4"
      },
      "execution_count": 4,
      "outputs": []
    },
    {
      "cell_type": "code",
      "source": [
        "%%time\n",
        "Central_U_LU_100,Central_U_analytical_100,Central_x_100 = Central_LU_dec(2,-3,100)"
      ],
      "metadata": {
        "colab": {
          "base_uri": "https://localhost:8080/"
        },
        "id": "g2TBMYqbl9Rx",
        "outputId": "578518af-0729-4830-fa41-2e8c82a37341"
      },
      "execution_count": null,
      "outputs": [
        {
          "output_type": "stream",
          "name": "stdout",
          "text": [
            "CPU times: user 5.53 ms, sys: 1.23 ms, total: 6.77 ms\n",
            "Wall time: 7.06 ms\n"
          ]
        }
      ]
    },
    {
      "cell_type": "code",
      "source": [
        "plt.plot(Central_x_100,Central_U_LU_100)\n",
        "plt.plot(Central_x_100,Central_U_analytical_100)     \n",
        "plt.legend(('Numercical Solution', 'Analytical Solution'),\n",
        "           loc='upper right', shadow=True)\n",
        "plt.xlabel('X values')\n",
        "plt.ylabel('U(x) values')\n",
        "plt.title('Explicit Scheme (Central Aprox.)')\n",
        "\n",
        "print(inf_norm(Central_U_LU_100,Central_U_analytical_100))"
      ],
      "metadata": {
        "colab": {
          "base_uri": "https://localhost:8080/",
          "height": 312
        },
        "id": "VzkdfvS8inLU",
        "outputId": "8de40418-6ec6-4496-b441-bf69e8686b2c"
      },
      "execution_count": null,
      "outputs": [
        {
          "output_type": "stream",
          "name": "stdout",
          "text": [
            "0.0004740350280061713\n"
          ]
        },
        {
          "output_type": "display_data",
          "data": {
            "text/plain": [
              "<Figure size 432x288 with 1 Axes>"
            ],
            "image/png": "[encoded data removed]"
          },
          "metadata": {
            "needs_background": "light"
          }
        }
      ]
    },
    {
      "cell_type": "markdown",
      "source": [
        "### The other alternative is solving by iteration (instead of using linalg.solve from numpy)\n",
        "\n",
        "---\n",
        "\n"
      ],
      "metadata": {
        "id": "vR9Rg5xNkReQ"
      }
    },
    {
      "cell_type": "code",
      "execution_count": null,
      "metadata": {
        "id": "ql7_JvFmNeNT"
      },
      "outputs": [],
      "source": [
        "def Iteration(a,b,interior_points,dst):\n",
        "\n",
        "  #Space discretization:\n",
        "  x = np.linspace(0,1,interior_points+2) #n=100, (102 if we count with x=0 and x=1)\n",
        "  delta_x = x[1]-x[0]\n",
        "  U_analytical = np.exp(-x)*((x-1)**2)\n",
        "\n",
        "  U = np.zeros(len(x))\n",
        "  U[0]=1\n",
        "  \n",
        "  temp=np.array([e for e in U])+999\n",
        "\n",
        "  while dst >=1e-5:\n",
        "    \n",
        "    for i in range(1,len(U)-1):\n",
        "      U[i] = ( -1 / ( beta(x[i]+delta_x/2)/delta_x**2+beta(x[i]-delta_x/2)/delta_x**2+gamma(x[i]) ))*(f(x[i]) - U[i+1]*(beta(x[i]+delta_x/2)/delta_x**2) - U[i-1]*(beta(x[i]-delta_x/2)/delta_x**2))\n",
        "    \n",
        "    U[-2] = (f(x[-2]) - (beta(x[-2]-delta_x/2)/delta_x**2)*U[-3] )  / ( (b/(b+a*delta_x))*beta(x[-2]+delta_x/2)/delta_x**2 - beta(x[-2]+delta_x/2)/delta_x**2 - beta(x[-2]-delta_x/2)/delta_x**2 - gamma(x[-2]))\n",
        "    U[-1] = (b/(b+a*delta_x))*U[-2]\n",
        "    \n",
        "    dst = np.linalg.norm(U - temp)\n",
        "    temp=np.array([e for e in U])\n",
        "\n",
        "  return U,U_analytical,x\n"
      ]
    },
    {
      "cell_type": "code",
      "source": [
        "%%time\n",
        "U_it,U_it_analytical,x=Iteration(2,-3,100,1e-4)"
      ],
      "metadata": {
        "colab": {
          "base_uri": "https://localhost:8080/"
        },
        "id": "KnDeCKornWR0",
        "outputId": "2aee2580-5d87-40f5-acbf-84c1c9b5f72d"
      },
      "execution_count": null,
      "outputs": [
        {
          "output_type": "stream",
          "name": "stdout",
          "text": [
            "CPU times: user 38.2 s, sys: 310 ms, total: 38.6 s\n",
            "Wall time: 38.5 s\n"
          ]
        }
      ]
    },
    {
      "cell_type": "code",
      "execution_count": null,
      "metadata": {
        "colab": {
          "base_uri": "https://localhost:8080/",
          "height": 312
        },
        "id": "lNWzRC0Te-aX",
        "outputId": "1c52cd5f-a15b-4d39-914d-71e91acfcd31"
      },
      "outputs": [
        {
          "output_type": "stream",
          "name": "stdout",
          "text": [
            "0.00916233551099493\n"
          ]
        },
        {
          "output_type": "display_data",
          "data": {
            "text/plain": [
              "<Figure size 432x288 with 1 Axes>"
            ],
            "image/png": "[encoded data removed]"
          },
          "metadata": {
            "needs_background": "light"
          }
        }
      ],
      "source": [
        "plt.plot(x,U_it)\n",
        "plt.plot(x,U_it_analytical)     \n",
        "plt.legend(('Numercical Solution', 'Analytical Solution'),\n",
        "           loc='upper right', shadow=True)\n",
        "plt.xlabel('X values')\n",
        "plt.ylabel('U(x) values')\n",
        "plt.title('Explicit Scheme - Iterative Method')\n",
        "print(inf_norm(U_it,U_it_analytical))"
      ]
    },
    {
      "cell_type": "markdown",
      "source": [
        "**Grid Refinment Analysis**\n",
        "---"
      ],
      "metadata": {
        "id": "E8Jl0COu6F50"
      }
    },
    {
      "cell_type": "markdown",
      "source": [
        "1st for the one with Backward scheme for the derivative\n",
        "\n",
        "---\n",
        "\n"
      ],
      "metadata": {
        "id": "BQe1cLS6nPgS"
      }
    },
    {
      "cell_type": "code",
      "source": [
        "#Grid refinement analysis:\n",
        "# n=25\n",
        "# n=50\n",
        "# n=100\n",
        "# n=200\n",
        "# n=400\n",
        "\n",
        "Backward_U_LU_25, Backward_U_analytical_25,a = Backward_LU_dec(2,-3,25)\n",
        "Backward_norm_infinity_25 = np.max(np.abs(Backward_U_LU_25-Backward_U_analytical_25))\n",
        "\n",
        "Backward_U_LU_50, Backward_U_analytical_50,a = Backward_LU_dec(2,-3,50)\n",
        "Backward_norm_infinity_50 = np.max(np.abs(Backward_U_LU_50-Backward_U_analytical_50))\n",
        "\n",
        "Backward_U_LU_100, Backward_U_analytical_100,a = Backward_LU_dec(2,-3,100)\n",
        "Backward_norm_infinity_100 = np.max(np.abs(Backward_U_LU_100-Backward_U_analytical_100))\n",
        "\n",
        "Backward_U_LU_200, Backward_U_analytical_200,a = Backward_LU_dec(2,-3,200)\n",
        "Backward_norm_infinity_200 = np.max(np.abs(Backward_U_LU_200-Backward_U_analytical_200))\n",
        "\n",
        "Backward_U_LU_400, Backward_U_analytical_400,a = Backward_LU_dec(2,-3,400)\n",
        "Backward_norm_infinity_400 = np.max(np.abs(Backward_U_LU_400-Backward_U_analytical_400))\n",
        "\n",
        "print(\"Errors:\",Backward_norm_infinity_25,Backward_norm_infinity_50,Backward_norm_infinity_100,Backward_norm_infinity_200,Backward_norm_infinity_400)\n",
        "print(\"Ratio between Errors:\",Backward_norm_infinity_25/Backward_norm_infinity_50,Backward_norm_infinity_50/Backward_norm_infinity_100,Backward_norm_infinity_100/Backward_norm_infinity_200,Backward_norm_infinity_200/Backward_norm_infinity_400)\n",
        "\n",
        "#The error drop by 4 (roughly)\n"
      ],
      "metadata": {
        "colab": {
          "base_uri": "https://localhost:8080/"
        },
        "id": "P20PKw3oJbq8",
        "outputId": "ef1e791a-b26f-4dc4-cae0-8682b8cfef2f"
      },
      "execution_count": null,
      "outputs": [
        {
          "output_type": "stream",
          "name": "stdout",
          "text": [
            "Errors: 0.00029583447569672905 7.380238290102416e-05 1.842456751320419e-05 4.60246298952428e-06 1.1501286859168293e-06\n",
            "Ratio between Errors: 4.008467803722144 4.005650762121433 4.003197321768924 4.00169393727921\n"
          ]
        }
      ]
    },
    {
      "cell_type": "markdown",
      "source": [
        "Now for the one with Central scheme for the derivative\n",
        "\n",
        "---"
      ],
      "metadata": {
        "id": "hH7fJd8qnjQO"
      }
    },
    {
      "cell_type": "code",
      "source": [
        "#Grid refinement analysis:\n",
        "# n=25\n",
        "# n=50\n",
        "# n=100\n",
        "# n=200\n",
        "# n=400\n",
        "\n",
        "Central_U_LU_25, Central_U_analytical_25,a = Central_LU_dec(2,-3,25)\n",
        "Central_norm_infinity_25 = np.max(np.abs(Central_U_LU_25-Central_U_analytical_25))\n",
        "\n",
        "Central_U_LU_50, Central_U_analytical_50,b = Central_LU_dec(2,-3,50)\n",
        "Central_norm_infinity_50 = np.max(np.abs(Central_U_LU_50-Central_U_analytical_50))\n",
        "\n",
        "Central_U_LU_100, Central_U_analytical_100,b = Central_LU_dec(2,-3,100)\n",
        "Central_norm_infinity_100 = np.max(np.abs(Central_U_LU_100-Central_U_analytical_100))\n",
        "\n",
        "Central_U_LU_200, Central_U_analytical_200,b = Central_LU_dec(2,-3,200)\n",
        "Central_norm_infinity_200 = np.max(np.abs(Central_U_LU_200-Central_U_analytical_200))\n",
        "\n",
        "Central_U_LU_400, Central_U_analytical_400,b = Central_LU_dec(2,-3,400)\n",
        "Central_norm_infinity_400 = np.max(np.abs(Central_U_LU_400-Central_U_analytical_400))\n",
        "\n",
        "print(\"Errors:\",Central_norm_infinity_25,Central_norm_infinity_50,Central_norm_infinity_100,Central_norm_infinity_200,Central_norm_infinity_400)\n",
        "print(\"Ratio of Erros:\",Central_norm_infinity_25/Central_norm_infinity_50,Central_norm_infinity_50/Central_norm_infinity_100,Central_norm_infinity_100/Central_norm_infinity_200,Central_norm_infinity_200/Central_norm_infinity_400)\n",
        "\n",
        "#The error drop by 4 (roughly)\n"
      ],
      "metadata": {
        "colab": {
          "base_uri": "https://localhost:8080/"
        },
        "id": "2ucAlmtmnhNL",
        "outputId": "61653acd-7389-479b-f486-97524ff6f66b"
      },
      "execution_count": 5,
      "outputs": [
        {
          "output_type": "stream",
          "name": "stdout",
          "text": [
            "Errors: 0.007146473700439976 0.0018587749893370245 0.0004740350280061713 0.00011969694661003519 3.0074055660885095e-05\n",
            "Ratio of Erros: 3.844722325959923 3.921176452202654 3.9602934028931114 3.9800733216609485\n"
          ]
        }
      ]
    },
    {
      "cell_type": "markdown",
      "source": [
        ""
      ],
      "metadata": {
        "id": "gNtGy0ndnhlk"
      }
    },
    {
      "cell_type": "markdown",
      "source": [
        "**Q:** a = 0 or b = 0\n",
        "\n",
        "---\n"
      ],
      "metadata": {
        "id": "GuDr5ef85v6m"
      }
    },
    {
      "cell_type": "code",
      "source": [
        "# Central_U_b, Central_U_analytical_b, xb = Central_LU_dec(2,0,100) #We will obtain an error\n",
        "Central_U_a, Central_U_analytical_a, xa = Central_LU_dec(0,-3,100)"
      ],
      "metadata": {
        "id": "kSJiH_CVm0ov"
      },
      "execution_count": 7,
      "outputs": []
    },
    {
      "cell_type": "code",
      "source": [
        "plt.plot(Central_x_100,Central_U_LU_100)\n",
        "plt.plot(xa,Central_U_a)\n",
        "\n",
        "plt.legend(('U (previous case) ', 'U (a=0)'),\n",
        "           loc='upper right', shadow=True)\n",
        "plt.xlabel('X values')\n",
        "plt.ylabel('U(x) values')\n",
        "\n",
        "#For the case where a=0 and b=-3, the solution is the same as the one obtained before.\n",
        "print(inf_norm(Central_U_LU_100,Central_U_a))\n",
        "print(inf_norm(Central_U_analytical_a,Central_U_a))  #The error is actually lower for a=0 (6.75784935425849e-05)\n",
        "print(inf_norm(Central_U_analytical_a,Central_U_LU_100))  #Here the error is larger (0.0004740350280061713)"
      ],
      "metadata": {
        "colab": {
          "base_uri": "https://localhost:8080/",
          "height": 331
        },
        "id": "dCcTFGCG5TCk",
        "outputId": "10c1f2c6-367c-4221-ddb1-156e84c0a0a8"
      },
      "execution_count": 11,
      "outputs": [
        {
          "output_type": "stream",
          "name": "stdout",
          "text": [
            "0.0004064565344635864\n",
            "6.75784935425849e-05\n",
            "0.0004740350280061713\n"
          ]
        },
        {
          "output_type": "display_data",
          "data": {
            "text/plain": [
              "<Figure size 432x288 with 1 Axes>"
            ],
            "image/png": "[encoded data removed]"
          },
          "metadata": {
            "needs_background": "light"
          }
        }
      ]
    }
  ],
  "metadata": {
    "colab": {
      "name": "Ex2 (Complete).ipynb",
      "provenance": [],
      "collapsed_sections": []
    },
    "kernelspec": {
      "display_name": "Python 3",
      "name": "python3"
    },
    "language_info": {
      "name": "python"
    }
  },
  "nbformat": 4,
  "nbformat_minor": 0
}